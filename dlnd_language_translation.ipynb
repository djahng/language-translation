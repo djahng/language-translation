{
 "cells": [
  {
   "cell_type": "markdown",
   "metadata": {
    "collapsed": true
   },
   "source": [
    "# Language Translation\n",
    "In this project, you’re going to take a peek into the realm of neural network machine translation.  You’ll be training a sequence to sequence model on a dataset of English and French sentences that can translate new sentences from English to French.\n",
    "## Get the Data\n",
    "Since translating the whole language of English to French will take lots of time to train, we have provided you with a small portion of the English corpus."
   ]
  },
  {
   "cell_type": "code",
   "execution_count": 1,
   "metadata": {
    "collapsed": true
   },
   "outputs": [],
   "source": [
    "\"\"\"\n",
    "DON'T MODIFY ANYTHING IN THIS CELL\n",
    "\"\"\"\n",
    "import helper\n",
    "import problem_unittests as tests\n",
    "\n",
    "source_path = 'data/small_vocab_en'\n",
    "target_path = 'data/small_vocab_fr'\n",
    "source_text = helper.load_data(source_path)\n",
    "target_text = helper.load_data(target_path)"
   ]
  },
  {
   "cell_type": "markdown",
   "metadata": {},
   "source": [
    "## Explore the Data\n",
    "Play around with view_sentence_range to view different parts of the data."
   ]
  },
  {
   "cell_type": "code",
   "execution_count": 2,
   "metadata": {},
   "outputs": [
    {
     "name": "stdout",
     "output_type": "stream",
     "text": [
      "Dataset Stats\n",
      "Roughly the number of unique words: 227\n",
      "Number of sentences: 137861\n",
      "Average number of words in a sentence: 13.225277634719028\n",
      "\n",
      "English sentences 0 to 10:\n",
      "new jersey is sometimes quiet during autumn , and it is snowy in april .\n",
      "the united states is usually chilly during july , and it is usually freezing in november .\n",
      "california is usually quiet during march , and it is usually hot in june .\n",
      "the united states is sometimes mild during june , and it is cold in september .\n",
      "your least liked fruit is the grape , but my least liked is the apple .\n",
      "his favorite fruit is the orange , but my favorite is the grape .\n",
      "paris is relaxing during december , but it is usually chilly in july .\n",
      "new jersey is busy during spring , and it is never hot in march .\n",
      "our least liked fruit is the lemon , but my least liked is the grape .\n",
      "the united states is sometimes busy during january , and it is sometimes warm in november .\n",
      "\n",
      "French sentences 0 to 10:\n",
      "new jersey est parfois calme pendant l' automne , et il est neigeux en avril .\n",
      "les états-unis est généralement froid en juillet , et il gèle habituellement en novembre .\n",
      "california est généralement calme en mars , et il est généralement chaud en juin .\n",
      "les états-unis est parfois légère en juin , et il fait froid en septembre .\n",
      "votre moins aimé fruit est le raisin , mais mon moins aimé est la pomme .\n",
      "son fruit préféré est l'orange , mais mon préféré est le raisin .\n",
      "paris est relaxant en décembre , mais il est généralement froid en juillet .\n",
      "new jersey est occupé au printemps , et il est jamais chaude en mars .\n",
      "notre fruit est moins aimé le citron , mais mon moins aimé est le raisin .\n",
      "les états-unis est parfois occupé en janvier , et il est parfois chaud en novembre .\n"
     ]
    }
   ],
   "source": [
    "view_sentence_range = (0, 10)\n",
    "\n",
    "\"\"\"\n",
    "DON'T MODIFY ANYTHING IN THIS CELL\n",
    "\"\"\"\n",
    "import numpy as np\n",
    "\n",
    "print('Dataset Stats')\n",
    "print('Roughly the number of unique words: {}'.format(len({word: None for word in source_text.split()})))\n",
    "\n",
    "sentences = source_text.split('\\n')\n",
    "word_counts = [len(sentence.split()) for sentence in sentences]\n",
    "print('Number of sentences: {}'.format(len(sentences)))\n",
    "print('Average number of words in a sentence: {}'.format(np.average(word_counts)))\n",
    "\n",
    "print()\n",
    "print('English sentences {} to {}:'.format(*view_sentence_range))\n",
    "print('\\n'.join(source_text.split('\\n')[view_sentence_range[0]:view_sentence_range[1]]))\n",
    "print()\n",
    "print('French sentences {} to {}:'.format(*view_sentence_range))\n",
    "print('\\n'.join(target_text.split('\\n')[view_sentence_range[0]:view_sentence_range[1]]))"
   ]
  },
  {
   "cell_type": "markdown",
   "metadata": {},
   "source": [
    "## Implement Preprocessing Function\n",
    "### Text to Word Ids\n",
    "As you did with other RNNs, you must turn the text into a number so the computer can understand it. In the function `text_to_ids()`, you'll turn `source_text` and `target_text` from words to ids.  However, you need to add the `<EOS>` word id at the end of `target_text`.  This will help the neural network predict when the sentence should end.\n",
    "\n",
    "You can get the `<EOS>` word id by doing:\n",
    "```python\n",
    "target_vocab_to_int['<EOS>']\n",
    "```\n",
    "You can get other word ids using `source_vocab_to_int` and `target_vocab_to_int`."
   ]
  },
  {
   "cell_type": "code",
   "execution_count": 3,
   "metadata": {},
   "outputs": [
    {
     "name": "stdout",
     "output_type": "stream",
     "text": [
      "Tests Passed\n"
     ]
    }
   ],
   "source": [
    "def text_to_ids(source_text, target_text, source_vocab_to_int, target_vocab_to_int):\n",
    "    \"\"\"\n",
    "    Convert source and target text to proper word ids\n",
    "    :param source_text: String that contains all the source text.\n",
    "    :param target_text: String that contains all the target text.\n",
    "    :param source_vocab_to_int: Dictionary to go from the source words to an id\n",
    "    :param target_vocab_to_int: Dictionary to go from the target words to an id\n",
    "    :return: A tuple of lists (source_id_text, target_id_text)\n",
    "    \"\"\"\n",
    "    # Convert source_text to a list of IDs\n",
    "    source_id_text = []\n",
    "    for sentence in source_text.split('\\n'):\n",
    "        id_text = [source_vocab_to_int[text] for text in sentence.split()]\n",
    "        source_id_text.append(id_text)\n",
    "    \n",
    "    # Convert target_text to list of IDs\n",
    "    target_id_text = []\n",
    "    eos = target_vocab_to_int['<EOS>']\n",
    "    for sentence in target_text.split('\\n'):\n",
    "        id_text = [target_vocab_to_int[text] for text in sentence.split()]\n",
    "        id_text.append(eos)\n",
    "        target_id_text.append(id_text)\n",
    "    \n",
    "    return source_id_text, target_id_text\n",
    "\n",
    "\"\"\"\n",
    "DON'T MODIFY ANYTHING IN THIS CELL THAT IS BELOW THIS LINE\n",
    "\"\"\"\n",
    "tests.test_text_to_ids(text_to_ids)"
   ]
  },
  {
   "cell_type": "markdown",
   "metadata": {},
   "source": [
    "### Preprocess all the data and save it\n",
    "Running the code cell below will preprocess all the data and save it to file."
   ]
  },
  {
   "cell_type": "code",
   "execution_count": 4,
   "metadata": {
    "collapsed": true
   },
   "outputs": [],
   "source": [
    "\"\"\"\n",
    "DON'T MODIFY ANYTHING IN THIS CELL\n",
    "\"\"\"\n",
    "helper.preprocess_and_save_data(source_path, target_path, text_to_ids)"
   ]
  },
  {
   "cell_type": "markdown",
   "metadata": {},
   "source": [
    "# Check Point\n",
    "This is your first checkpoint. If you ever decide to come back to this notebook or have to restart the notebook, you can start from here. The preprocessed data has been saved to disk."
   ]
  },
  {
   "cell_type": "code",
   "execution_count": 5,
   "metadata": {
    "collapsed": true
   },
   "outputs": [],
   "source": [
    "\"\"\"\n",
    "DON'T MODIFY ANYTHING IN THIS CELL\n",
    "\"\"\"\n",
    "import numpy as np\n",
    "import helper\n",
    "\n",
    "(source_int_text, target_int_text), (source_vocab_to_int, target_vocab_to_int), _ = helper.load_preprocess()"
   ]
  },
  {
   "cell_type": "markdown",
   "metadata": {},
   "source": [
    "### Check the Version of TensorFlow and Access to GPU\n",
    "This will check to make sure you have the correct version of TensorFlow and access to a GPU"
   ]
  },
  {
   "cell_type": "code",
   "execution_count": 6,
   "metadata": {},
   "outputs": [
    {
     "name": "stdout",
     "output_type": "stream",
     "text": [
      "TensorFlow Version: 1.1.0\n",
      "Default GPU Device: /gpu:0\n"
     ]
    }
   ],
   "source": [
    "\"\"\"\n",
    "DON'T MODIFY ANYTHING IN THIS CELL\n",
    "\"\"\"\n",
    "from distutils.version import LooseVersion\n",
    "import warnings\n",
    "import tensorflow as tf\n",
    "from tensorflow.python.layers.core import Dense\n",
    "\n",
    "# Check TensorFlow Version\n",
    "assert LooseVersion(tf.__version__) >= LooseVersion('1.1'), 'Please use TensorFlow version 1.1 or newer'\n",
    "print('TensorFlow Version: {}'.format(tf.__version__))\n",
    "\n",
    "# Check for a GPU\n",
    "if not tf.test.gpu_device_name():\n",
    "    warnings.warn('No GPU found. Please use a GPU to train your neural network.')\n",
    "else:\n",
    "    print('Default GPU Device: {}'.format(tf.test.gpu_device_name()))"
   ]
  },
  {
   "cell_type": "markdown",
   "metadata": {},
   "source": [
    "## Build the Neural Network\n",
    "You'll build the components necessary to build a Sequence-to-Sequence model by implementing the following functions below:\n",
    "- `model_inputs`\n",
    "- `process_decoder_input`\n",
    "- `encoding_layer`\n",
    "- `decoding_layer_train`\n",
    "- `decoding_layer_infer`\n",
    "- `decoding_layer`\n",
    "- `seq2seq_model`\n",
    "\n",
    "### Input\n",
    "Implement the `model_inputs()` function to create TF Placeholders for the Neural Network. It should create the following placeholders:\n",
    "\n",
    "- Input text placeholder named \"input\" using the TF Placeholder name parameter with rank 2.\n",
    "- Targets placeholder with rank 2.\n",
    "- Learning rate placeholder with rank 0.\n",
    "- Keep probability placeholder named \"keep_prob\" using the TF Placeholder name parameter with rank 0.\n",
    "- Target sequence length placeholder named \"target_sequence_length\" with rank 1\n",
    "- Max target sequence length tensor named \"max_target_len\" getting its value from applying tf.reduce_max on the target_sequence_length placeholder. Rank 0.\n",
    "- Source sequence length placeholder named \"source_sequence_length\" with rank 1\n",
    "\n",
    "Return the placeholders in the following the tuple (input, targets, learning rate, keep probability, target sequence length, max target sequence length, source sequence length)"
   ]
  },
  {
   "cell_type": "code",
   "execution_count": 9,
   "metadata": {},
   "outputs": [
    {
     "name": "stdout",
     "output_type": "stream",
     "text": [
      "Tests Passed\n"
     ]
    }
   ],
   "source": [
    "def model_inputs():\n",
    "    \"\"\"\n",
    "    Create TF Placeholders for input, targets, learning rate, and lengths of source and target sequences.\n",
    "    :return: Tuple (input, targets, learning rate, keep probability, target sequence length,\n",
    "    max target sequence length, source sequence length)\n",
    "    \"\"\"\n",
    "    input = tf.placeholder(tf.int32, shape=[None, None], name='input')\n",
    "    targets = tf.placeholder(tf.int32, shape=[None, None], name='targets')\n",
    "    learning_rate = tf.placeholder(tf.float32, name='learning_rate')\n",
    "    keep_prob = tf.placeholder(tf.float32, name='keep_prob')\n",
    "    target_sequence_len = tf.placeholder(tf.int32, shape=[None, ], name='target_sequence_length')\n",
    "    max_target_len = tf.reduce_max(target_sequence_len, name='max_target_len')\n",
    "    source_sequence_len = tf.placeholder(tf.int32, shape=[None, ], name='source_sequence_length')\n",
    "\n",
    "    return (input, targets, learning_rate, keep_prob,\n",
    "            target_sequence_len, max_target_len, source_sequence_len)\n",
    "\n",
    "\n",
    "\"\"\"\n",
    "DON'T MODIFY ANYTHING IN THIS CELL THAT IS BELOW THIS LINE\n",
    "\"\"\"\n",
    "tests.test_model_inputs(model_inputs)"
   ]
  },
  {
   "cell_type": "markdown",
   "metadata": {},
   "source": [
    "### Process Decoder Input\n",
    "Implement `process_decoder_input` by removing the last word id from each batch in `target_data` and concat the GO ID to the begining of each batch."
   ]
  },
  {
   "cell_type": "code",
   "execution_count": 11,
   "metadata": {},
   "outputs": [
    {
     "name": "stdout",
     "output_type": "stream",
     "text": [
      "Tests Passed\n"
     ]
    }
   ],
   "source": [
    "def process_decoder_input(target_data, target_vocab_to_int, batch_size):\n",
    "    \"\"\"\n",
    "    Preprocess target data for encoding\n",
    "    :param target_data: Target Placehoder\n",
    "    :param target_vocab_to_int: Dictionary to go from the target words to an id\n",
    "    :param batch_size: Batch Size\n",
    "    :return: Preprocessed target data\n",
    "    \"\"\"\n",
    "    # From seq2seq\n",
    "    ending = tf.strided_slice(target_data, [0, 0], [batch_size, -1], [1, 1])\n",
    "    dec_input = tf.concat([tf.fill([batch_size, 1], target_vocab_to_int['<GO>']), ending], 1)\n",
    "    \n",
    "    return dec_input\n",
    "\n",
    "\"\"\"\n",
    "DON'T MODIFY ANYTHING IN THIS CELL THAT IS BELOW THIS LINE\n",
    "\"\"\"\n",
    "tests.test_process_encoding_input(process_decoder_input)"
   ]
  },
  {
   "cell_type": "markdown",
   "metadata": {},
   "source": [
    "### Encoding\n",
    "Implement `encoding_layer()` to create a Encoder RNN layer:\n",
    " * Embed the encoder input using [`tf.contrib.layers.embed_sequence`](https://www.tensorflow.org/api_docs/python/tf/contrib/layers/embed_sequence)\n",
    " * Construct a [stacked](https://github.com/tensorflow/tensorflow/blob/6947f65a374ebf29e74bb71e36fd82760056d82c/tensorflow/docs_src/tutorials/recurrent.md#stacking-multiple-lstms) [`tf.contrib.rnn.LSTMCell`](https://www.tensorflow.org/api_docs/python/tf/contrib/rnn/LSTMCell) wrapped in a [`tf.contrib.rnn.DropoutWrapper`](https://www.tensorflow.org/api_docs/python/tf/contrib/rnn/DropoutWrapper)\n",
    " * Pass cell and embedded input to [`tf.nn.dynamic_rnn()`](https://www.tensorflow.org/api_docs/python/tf/nn/dynamic_rnn)"
   ]
  },
  {
   "cell_type": "code",
   "execution_count": 13,
   "metadata": {
    "scrolled": false
   },
   "outputs": [
    {
     "name": "stdout",
     "output_type": "stream",
     "text": [
      "Tests Passed\n"
     ]
    }
   ],
   "source": [
    "from imp import reload\n",
    "reload(tests)\n",
    "\n",
    "def encoding_layer(rnn_inputs, rnn_size, num_layers, keep_prob, \n",
    "                   source_sequence_length, source_vocab_size, \n",
    "                   encoding_embedding_size):\n",
    "    \"\"\"\n",
    "    Create encoding layer\n",
    "    :param rnn_inputs: Inputs for the RNN\n",
    "    :param rnn_size: RNN Size\n",
    "    :param num_layers: Number of layers\n",
    "    :param keep_prob: Dropout keep probability\n",
    "    :param source_sequence_length: a list of the lengths of each sequence in the batch\n",
    "    :param source_vocab_size: vocabulary size of source data\n",
    "    :param encoding_embedding_size: embedding size of source data\n",
    "    :return: tuple (RNN output, RNN state)\n",
    "    \"\"\"\n",
    "    # Encoder embedding\n",
    "    enc_embed_input = tf.contrib.layers.embed_sequence(rnn_inputs, source_vocab_size, encoding_embedding_size)\n",
    "    \n",
    "    # RNN Cell\n",
    "    def make_cell(rnn_size, keep_prob=1.0):\n",
    "        enc_cell = tf.contrib.rnn.LSTMCell(rnn_size,\n",
    "                                           initializer=tf.random_uniform_initializer(-0.1, 0.1, seed=2))\n",
    "        drop = tf.contrib.rnn.DropoutWrapper(enc_cell, output_keep_prob=keep_prob)\n",
    "        \n",
    "        return drop\n",
    "    \n",
    "    enc_cell = tf.contrib.rnn.MultiRNNCell([make_cell(rnn_size, keep_prob=keep_prob) for _ in range(num_layers)])\n",
    "    \n",
    "    enc_output, enc_state = tf.nn.dynamic_rnn(enc_cell, enc_embed_input, sequence_length=source_sequence_length,\n",
    "                                              dtype=tf.float32)\n",
    "    \n",
    "    return enc_output, enc_state\n",
    "\n",
    "\"\"\"\n",
    "DON'T MODIFY ANYTHING IN THIS CELL THAT IS BELOW THIS LINE\n",
    "\"\"\"\n",
    "tests.test_encoding_layer(encoding_layer)"
   ]
  },
  {
   "cell_type": "markdown",
   "metadata": {},
   "source": [
    "### Decoding - Training\n",
    "Create a training decoding layer:\n",
    "* Create a [`tf.contrib.seq2seq.TrainingHelper`](https://www.tensorflow.org/api_docs/python/tf/contrib/seq2seq/TrainingHelper) \n",
    "* Create a [`tf.contrib.seq2seq.BasicDecoder`](https://www.tensorflow.org/api_docs/python/tf/contrib/seq2seq/BasicDecoder)\n",
    "* Obtain the decoder outputs from [`tf.contrib.seq2seq.dynamic_decode`](https://www.tensorflow.org/api_docs/python/tf/contrib/seq2seq/dynamic_decode)"
   ]
  },
  {
   "cell_type": "code",
   "execution_count": 14,
   "metadata": {},
   "outputs": [
    {
     "name": "stdout",
     "output_type": "stream",
     "text": [
      "Tests Passed\n"
     ]
    }
   ],
   "source": [
    "\n",
    "def decoding_layer_train(encoder_state, dec_cell, dec_embed_input, \n",
    "                         target_sequence_length, max_summary_length, \n",
    "                         output_layer, keep_prob):\n",
    "    \"\"\"\n",
    "    Create a decoding layer for training\n",
    "    :param encoder_state: Encoder State\n",
    "    :param dec_cell: Decoder RNN Cell\n",
    "    :param dec_embed_input: Decoder embedded input\n",
    "    :param target_sequence_length: The lengths of each sequence in the target batch\n",
    "    :param max_summary_length: The length of the longest sequence in the batch\n",
    "    :param output_layer: Function to apply the output layer\n",
    "    :param keep_prob: Dropout keep probability\n",
    "    :return: BasicDecoderOutput containing training logits and sample_id\n",
    "    \"\"\"\n",
    "    # Helper for the training process. Used by BasicDecoder to read inputs.\n",
    "    training_helper = tf.contrib.seq2seq.TrainingHelper(inputs=dec_embed_input,\n",
    "                                                        sequence_length=target_sequence_length,\n",
    "                                                        time_major=False)\n",
    "\n",
    "    # Basic decoder\n",
    "    training_decoder = tf.contrib.seq2seq.BasicDecoder(dec_cell,\n",
    "                                                       training_helper,\n",
    "                                                       encoder_state,\n",
    "                                                       output_layer)\n",
    "    \n",
    "    # Perform dynamic decoding using the decoder\n",
    "    training_decoder_output, _ = tf.contrib.seq2seq.dynamic_decode(training_decoder,\n",
    "                                                                   impute_finished=True,\n",
    "                                                                   maximum_iterations=max_summary_length)\n",
    "    \n",
    "    return training_decoder_output\n",
    "\n",
    "\n",
    "\n",
    "\"\"\"\n",
    "DON'T MODIFY ANYTHING IN THIS CELL THAT IS BELOW THIS LINE\n",
    "\"\"\"\n",
    "tests.test_decoding_layer_train(decoding_layer_train)"
   ]
  },
  {
   "cell_type": "markdown",
   "metadata": {},
   "source": [
    "### Decoding - Inference\n",
    "Create inference decoder:\n",
    "* Create a [`tf.contrib.seq2seq.GreedyEmbeddingHelper`](https://www.tensorflow.org/api_docs/python/tf/contrib/seq2seq/GreedyEmbeddingHelper)\n",
    "* Create a [`tf.contrib.seq2seq.BasicDecoder`](https://www.tensorflow.org/api_docs/python/tf/contrib/seq2seq/BasicDecoder)\n",
    "* Obtain the decoder outputs from [`tf.contrib.seq2seq.dynamic_decode`](https://www.tensorflow.org/api_docs/python/tf/contrib/seq2seq/dynamic_decode)"
   ]
  },
  {
   "cell_type": "code",
   "execution_count": 17,
   "metadata": {
    "scrolled": true
   },
   "outputs": [
    {
     "name": "stdout",
     "output_type": "stream",
     "text": [
      "Tests Passed\n"
     ]
    }
   ],
   "source": [
    "def decoding_layer_infer(encoder_state, dec_cell, dec_embeddings, start_of_sequence_id,\n",
    "                         end_of_sequence_id, max_target_sequence_length,\n",
    "                         vocab_size, output_layer, batch_size, keep_prob):\n",
    "    \"\"\"\n",
    "    Create a decoding layer for inference\n",
    "    :param encoder_state: Encoder state\n",
    "    :param dec_cell: Decoder RNN Cell\n",
    "    :param dec_embeddings: Decoder embeddings\n",
    "    :param start_of_sequence_id: GO ID\n",
    "    :param end_of_sequence_id: EOS Id\n",
    "    :param max_target_sequence_length: Maximum length of target sequences\n",
    "    :param vocab_size: Size of decoder/target vocabulary\n",
    "    :param decoding_scope: TenorFlow Variable Scope for decoding\n",
    "    :param output_layer: Function to apply the output layer\n",
    "    :param batch_size: Batch size\n",
    "    :param keep_prob: Dropout keep probability\n",
    "    :return: BasicDecoderOutput containing inference logits and sample_id\n",
    "    \"\"\"\n",
    "    start_tokens = tf.tile(tf.constant([start_of_sequence_id], dtype=tf.int32), [batch_size], name='start_tokens')\n",
    "    \n",
    "    # Helper for the inference process\n",
    "    inference_helper = tf.contrib.seq2seq.GreedyEmbeddingHelper(dec_embeddings,\n",
    "                                                                start_tokens,\n",
    "                                                                end_of_sequence_id)\n",
    "    \n",
    "    # Basic decoder\n",
    "    inference_decoder = tf.contrib.seq2seq.BasicDecoder(dec_cell,\n",
    "                                                        inference_helper,\n",
    "                                                        encoder_state,\n",
    "                                                        output_layer)\n",
    "    \n",
    "    # Perform dynamic decoding using the decoder\n",
    "    inference_decoder_output, _ = tf.contrib.seq2seq.dynamic_decode(inference_decoder,\n",
    "                                                                    impute_finished=True,\n",
    "                                                                    maximum_iterations=max_target_sequence_length)\n",
    "    \n",
    "    return inference_decoder_output\n",
    "\n",
    "\n",
    "\n",
    "\"\"\"\n",
    "DON'T MODIFY ANYTHING IN THIS CELL THAT IS BELOW THIS LINE\n",
    "\"\"\"\n",
    "tests.test_decoding_layer_infer(decoding_layer_infer)"
   ]
  },
  {
   "cell_type": "markdown",
   "metadata": {},
   "source": [
    "### Build the Decoding Layer\n",
    "Implement `decoding_layer()` to create a Decoder RNN layer.\n",
    "\n",
    "* Embed the target sequences\n",
    "* Construct the decoder LSTM cell (just like you constructed the encoder cell above)\n",
    "* Create an output layer to map the outputs of the decoder to the elements of our vocabulary\n",
    "* Use the your `decoding_layer_train(encoder_state, dec_cell, dec_embed_input, target_sequence_length, max_target_sequence_length, output_layer, keep_prob)` function to get the training logits.\n",
    "* Use your `decoding_layer_infer(encoder_state, dec_cell, dec_embeddings, start_of_sequence_id, end_of_sequence_id, max_target_sequence_length, vocab_size, output_layer, batch_size, keep_prob)` function to get the inference logits.\n",
    "\n",
    "Note: You'll need to use [tf.variable_scope](https://www.tensorflow.org/api_docs/python/tf/variable_scope) to share variables between training and inference."
   ]
  },
  {
   "cell_type": "code",
   "execution_count": 18,
   "metadata": {},
   "outputs": [
    {
     "name": "stdout",
     "output_type": "stream",
     "text": [
      "Tests Passed\n"
     ]
    }
   ],
   "source": [
    "def decoding_layer(dec_input, encoder_state,\n",
    "                   target_sequence_length, max_target_sequence_length,\n",
    "                   rnn_size,\n",
    "                   num_layers, target_vocab_to_int, target_vocab_size,\n",
    "                   batch_size, keep_prob, decoding_embedding_size):\n",
    "    \"\"\"\n",
    "    Create decoding layer\n",
    "    :param dec_input: Decoder input\n",
    "    :param encoder_state: Encoder state\n",
    "    :param target_sequence_length: The lengths of each sequence in the target batch\n",
    "    :param max_target_sequence_length: Maximum length of target sequences\n",
    "    :param rnn_size: RNN Size\n",
    "    :param num_layers: Number of layers\n",
    "    :param target_vocab_to_int: Dictionary to go from the target words to an id\n",
    "    :param target_vocab_size: Size of target vocabulary\n",
    "    :param batch_size: The size of the batch\n",
    "    :param keep_prob: Dropout keep probability\n",
    "    :return: Tuple of (Training BasicDecoderOutput, Inference BasicDecoderOutput)\n",
    "    \"\"\"\n",
    "    # Decoder embedding\n",
    "    dec_embeddings = tf.Variable(tf.random_uniform([target_vocab_size, decoding_embedding_size]))\n",
    "    dec_embed_input = tf.nn.embedding_lookup(dec_embeddings, dec_input)\n",
    "    \n",
    "    # Construct the decoder cell\n",
    "    def make_cell(rnn_size, keep_prob=1.0):\n",
    "        dec_cell = tf.contrib.rnn.LSTMCell(rnn_size,\n",
    "                                           initializer=tf.random_uniform_initializer(-0.1, 0.1, seed=2))\n",
    "        drop = tf.contrib.rnn.DropoutWrapper(dec_cell, output_keep_prob=keep_prob)\n",
    "        \n",
    "        return drop\n",
    "    \n",
    "    dec_cell = tf.contrib.rnn.MultiRNNCell([make_cell(rnn_size, keep_prob=keep_prob) for _ in range(num_layers)])\n",
    "    \n",
    "    # Dense layer to translate the decoder's output at each time step into\n",
    "    # a choice from the target vocabulary\n",
    "    output_layer = Dense(target_vocab_size,\n",
    "                         kernel_initializer=tf.truncated_normal_initializer(mean=0.0, stddev=0.1))\n",
    "    \n",
    "    # Training decoder\n",
    "    with tf.variable_scope('decode'):\n",
    "        training_decoder_output = decoding_layer_train(encoder_state, dec_cell, dec_embed_input,\n",
    "                                                       target_sequence_length, max_target_sequence_length,\n",
    "                                                       output_layer, keep_prob)\n",
    "    \n",
    "    # Inference decoder\n",
    "    with tf.variable_scope('decode', reuse=True):\n",
    "        inference_decoder_output = decoding_layer_infer(encoder_state, dec_cell, dec_embeddings,\n",
    "                                                        target_vocab_to_int['<GO>'], target_vocab_to_int['<EOS>'],\n",
    "                                                        max_target_sequence_length, target_vocab_size,\n",
    "                                                        output_layer, batch_size, keep_prob)\n",
    "    \n",
    "    return training_decoder_output, inference_decoder_output\n",
    "\n",
    "\n",
    "\"\"\"\n",
    "DON'T MODIFY ANYTHING IN THIS CELL THAT IS BELOW THIS LINE\n",
    "\"\"\"\n",
    "tests.test_decoding_layer(decoding_layer)"
   ]
  },
  {
   "cell_type": "markdown",
   "metadata": {},
   "source": [
    "### Build the Neural Network\n",
    "Apply the functions you implemented above to:\n",
    "\n",
    "- Apply embedding to the input data for the encoder.\n",
    "- Encode the input using your `encoding_layer(rnn_inputs, rnn_size, num_layers, keep_prob,  source_sequence_length, source_vocab_size, encoding_embedding_size)`.\n",
    "- Process target data using your `process_decoder_input(target_data, target_vocab_to_int, batch_size)` function.\n",
    "- Apply embedding to the target data for the decoder.\n",
    "- Decode the encoded input using your `decoding_layer(dec_input, enc_state, target_sequence_length, max_target_sentence_length, rnn_size, num_layers, target_vocab_to_int, target_vocab_size, batch_size, keep_prob, dec_embedding_size)` function."
   ]
  },
  {
   "cell_type": "code",
   "execution_count": 19,
   "metadata": {},
   "outputs": [
    {
     "name": "stdout",
     "output_type": "stream",
     "text": [
      "Tests Passed\n"
     ]
    }
   ],
   "source": [
    "def seq2seq_model(input_data, target_data, keep_prob, batch_size,\n",
    "                  source_sequence_length, target_sequence_length,\n",
    "                  max_target_sentence_length,\n",
    "                  source_vocab_size, target_vocab_size,\n",
    "                  enc_embedding_size, dec_embedding_size,\n",
    "                  rnn_size, num_layers, target_vocab_to_int):\n",
    "    \"\"\"\n",
    "    Build the Sequence-to-Sequence part of the neural network\n",
    "    :param input_data: Input placeholder\n",
    "    :param target_data: Target placeholder\n",
    "    :param keep_prob: Dropout keep probability placeholder\n",
    "    :param batch_size: Batch Size\n",
    "    :param source_sequence_length: Sequence Lengths of source sequences in the batch\n",
    "    :param target_sequence_length: Sequence Lengths of target sequences in the batch\n",
    "    :param source_vocab_size: Source vocabulary size\n",
    "    :param target_vocab_size: Target vocabulary size\n",
    "    :param enc_embedding_size: Decoder embedding size\n",
    "    :param dec_embedding_size: Encoder embedding size\n",
    "    :param rnn_size: RNN Size\n",
    "    :param num_layers: Number of layers\n",
    "    :param target_vocab_to_int: Dictionary to go from the target words to an id\n",
    "    :return: Tuple of (Training BasicDecoderOutput, Inference BasicDecoderOutput)\n",
    "    \"\"\"\n",
    "    # Pass the input data through the encoder\n",
    "    enc_output, enc_state = encoding_layer(input_data, rnn_size, num_layers, keep_prob,\n",
    "                                           source_sequence_length, source_vocab_size,\n",
    "                                           enc_embedding_size)\n",
    "    \n",
    "    # Prepare the target sequences we'll feed to the decoder in training mode\n",
    "    dec_input = process_decoder_input(target_data, target_vocab_to_int, batch_size)\n",
    "    \n",
    "    # Pass encoder state and decoder inputs to the decoders\n",
    "    training_decoder_output, inference_decoder_output = decoding_layer(dec_input, enc_state,\n",
    "                                                                       target_sequence_length,\n",
    "                                                                       max_target_sentence_length,\n",
    "                                                                       rnn_size, num_layers,\n",
    "                                                                       target_vocab_to_int,\n",
    "                                                                       target_vocab_size,\n",
    "                                                                       batch_size, keep_prob,\n",
    "                                                                       dec_embedding_size)\n",
    "    \n",
    "    return training_decoder_output, inference_decoder_output\n",
    "\n",
    "\n",
    "\"\"\"\n",
    "DON'T MODIFY ANYTHING IN THIS CELL THAT IS BELOW THIS LINE\n",
    "\"\"\"\n",
    "tests.test_seq2seq_model(seq2seq_model)"
   ]
  },
  {
   "cell_type": "markdown",
   "metadata": {},
   "source": [
    "## Neural Network Training\n",
    "### Hyperparameters\n",
    "Tune the following parameters:\n",
    "\n",
    "- Set `epochs` to the number of epochs.\n",
    "- Set `batch_size` to the batch size.\n",
    "- Set `rnn_size` to the size of the RNNs.\n",
    "- Set `num_layers` to the number of layers.\n",
    "- Set `encoding_embedding_size` to the size of the embedding for the encoder.\n",
    "- Set `decoding_embedding_size` to the size of the embedding for the decoder.\n",
    "- Set `learning_rate` to the learning rate.\n",
    "- Set `keep_probability` to the Dropout keep probability\n",
    "- Set `display_step` to state how many steps between each debug output statement"
   ]
  },
  {
   "cell_type": "code",
   "execution_count": 26,
   "metadata": {
    "collapsed": true
   },
   "outputs": [],
   "source": [
    "# Number of Epochs\n",
    "epochs = 10\n",
    "# Batch Size\n",
    "batch_size = 256\n",
    "# RNN Size\n",
    "rnn_size = 512\n",
    "# Number of Layers\n",
    "num_layers = 3\n",
    "# Embedding Size\n",
    "encoding_embedding_size = 25\n",
    "decoding_embedding_size = 25\n",
    "# Learning Rate\n",
    "learning_rate = 0.001\n",
    "# Dropout Keep Probability\n",
    "keep_probability = 0.5\n",
    "display_step = 20"
   ]
  },
  {
   "cell_type": "markdown",
   "metadata": {},
   "source": [
    "### Build the Graph\n",
    "Build the graph using the neural network you implemented."
   ]
  },
  {
   "cell_type": "code",
   "execution_count": 27,
   "metadata": {
    "collapsed": true
   },
   "outputs": [],
   "source": [
    "\"\"\"\n",
    "DON'T MODIFY ANYTHING IN THIS CELL\n",
    "\"\"\"\n",
    "save_path = 'checkpoints/dev'\n",
    "(source_int_text, target_int_text), (source_vocab_to_int, target_vocab_to_int), _ = helper.load_preprocess()\n",
    "max_target_sentence_length = max([len(sentence) for sentence in source_int_text])\n",
    "\n",
    "train_graph = tf.Graph()\n",
    "with train_graph.as_default():\n",
    "    input_data, targets, lr, keep_prob, target_sequence_length, max_target_sequence_length, source_sequence_length = model_inputs()\n",
    "\n",
    "    #sequence_length = tf.placeholder_with_default(max_target_sentence_length, None, name='sequence_length')\n",
    "    input_shape = tf.shape(input_data)\n",
    "\n",
    "    train_logits, inference_logits = seq2seq_model(tf.reverse(input_data, [-1]),\n",
    "                                                   targets,\n",
    "                                                   keep_prob,\n",
    "                                                   batch_size,\n",
    "                                                   source_sequence_length,\n",
    "                                                   target_sequence_length,\n",
    "                                                   max_target_sequence_length,\n",
    "                                                   len(source_vocab_to_int),\n",
    "                                                   len(target_vocab_to_int),\n",
    "                                                   encoding_embedding_size,\n",
    "                                                   decoding_embedding_size,\n",
    "                                                   rnn_size,\n",
    "                                                   num_layers,\n",
    "                                                   target_vocab_to_int)\n",
    "\n",
    "\n",
    "    training_logits = tf.identity(train_logits.rnn_output, name='logits')\n",
    "    inference_logits = tf.identity(inference_logits.sample_id, name='predictions')\n",
    "\n",
    "    masks = tf.sequence_mask(target_sequence_length, max_target_sequence_length, dtype=tf.float32, name='masks')\n",
    "\n",
    "    with tf.name_scope(\"optimization\"):\n",
    "        # Loss function\n",
    "        cost = tf.contrib.seq2seq.sequence_loss(\n",
    "            training_logits,\n",
    "            targets,\n",
    "            masks)\n",
    "\n",
    "        # Optimizer\n",
    "        optimizer = tf.train.AdamOptimizer(lr)\n",
    "\n",
    "        # Gradient Clipping\n",
    "        gradients = optimizer.compute_gradients(cost)\n",
    "        capped_gradients = [(tf.clip_by_value(grad, -1., 1.), var) for grad, var in gradients if grad is not None]\n",
    "        train_op = optimizer.apply_gradients(capped_gradients)\n"
   ]
  },
  {
   "cell_type": "markdown",
   "metadata": {},
   "source": [
    "Batch and pad the source and target sequences"
   ]
  },
  {
   "cell_type": "code",
   "execution_count": 28,
   "metadata": {
    "collapsed": true
   },
   "outputs": [],
   "source": [
    "\"\"\"\n",
    "DON'T MODIFY ANYTHING IN THIS CELL\n",
    "\"\"\"\n",
    "def pad_sentence_batch(sentence_batch, pad_int):\n",
    "    \"\"\"Pad sentences with <PAD> so that each sentence of a batch has the same length\"\"\"\n",
    "    max_sentence = max([len(sentence) for sentence in sentence_batch])\n",
    "    return [sentence + [pad_int] * (max_sentence - len(sentence)) for sentence in sentence_batch]\n",
    "\n",
    "\n",
    "def get_batches(sources, targets, batch_size, source_pad_int, target_pad_int):\n",
    "    \"\"\"Batch targets, sources, and the lengths of their sentences together\"\"\"\n",
    "    for batch_i in range(0, len(sources)//batch_size):\n",
    "        start_i = batch_i * batch_size\n",
    "\n",
    "        # Slice the right amount for the batch\n",
    "        sources_batch = sources[start_i:start_i + batch_size]\n",
    "        targets_batch = targets[start_i:start_i + batch_size]\n",
    "\n",
    "        # Pad\n",
    "        pad_sources_batch = np.array(pad_sentence_batch(sources_batch, source_pad_int))\n",
    "        pad_targets_batch = np.array(pad_sentence_batch(targets_batch, target_pad_int))\n",
    "\n",
    "        # Need the lengths for the _lengths parameters\n",
    "        pad_targets_lengths = []\n",
    "        for target in pad_targets_batch:\n",
    "            pad_targets_lengths.append(len(target))\n",
    "\n",
    "        pad_source_lengths = []\n",
    "        for source in pad_sources_batch:\n",
    "            pad_source_lengths.append(len(source))\n",
    "\n",
    "        yield pad_sources_batch, pad_targets_batch, pad_source_lengths, pad_targets_lengths\n"
   ]
  },
  {
   "cell_type": "markdown",
   "metadata": {},
   "source": [
    "### Train\n",
    "Train the neural network on the preprocessed data. If you have a hard time getting a good loss, check the forms to see if anyone is having the same problem."
   ]
  },
  {
   "cell_type": "code",
   "execution_count": 29,
   "metadata": {
    "scrolled": true
   },
   "outputs": [
    {
     "name": "stdout",
     "output_type": "stream",
     "text": [
      "Epoch   0 Batch   20/538 - Train Accuracy: 0.4228, Validation Accuracy: 0.4581, Loss: 2.8126\n",
      "Epoch   0 Batch   40/538 - Train Accuracy: 0.5076, Validation Accuracy: 0.5119, Loss: 2.1756\n",
      "Epoch   0 Batch   60/538 - Train Accuracy: 0.4482, Validation Accuracy: 0.4998, Loss: 2.1384\n",
      "Epoch   0 Batch   80/538 - Train Accuracy: 0.4799, Validation Accuracy: 0.5348, Loss: 1.9952\n",
      "Epoch   0 Batch  100/538 - Train Accuracy: 0.4982, Validation Accuracy: 0.5332, Loss: 1.8248\n",
      "Epoch   0 Batch  120/538 - Train Accuracy: 0.5035, Validation Accuracy: 0.5447, Loss: 1.6670\n",
      "Epoch   0 Batch  140/538 - Train Accuracy: 0.4916, Validation Accuracy: 0.5510, Loss: 1.6333\n",
      "Epoch   0 Batch  160/538 - Train Accuracy: 0.4881, Validation Accuracy: 0.5222, Loss: 1.5100\n",
      "Epoch   0 Batch  180/538 - Train Accuracy: 0.5495, Validation Accuracy: 0.5574, Loss: 1.3362\n",
      "Epoch   0 Batch  200/538 - Train Accuracy: 0.5453, Validation Accuracy: 0.5675, Loss: 1.2647\n",
      "Epoch   0 Batch  220/538 - Train Accuracy: 0.5270, Validation Accuracy: 0.5646, Loss: 1.2072\n",
      "Epoch   0 Batch  240/538 - Train Accuracy: 0.5461, Validation Accuracy: 0.5787, Loss: 1.1718\n",
      "Epoch   0 Batch  260/538 - Train Accuracy: 0.5658, Validation Accuracy: 0.5881, Loss: 1.0863\n",
      "Epoch   0 Batch  280/538 - Train Accuracy: 0.5766, Validation Accuracy: 0.5838, Loss: 0.9814\n",
      "Epoch   0 Batch  300/538 - Train Accuracy: 0.5861, Validation Accuracy: 0.5934, Loss: 0.9645\n",
      "Epoch   0 Batch  320/538 - Train Accuracy: 0.5835, Validation Accuracy: 0.5653, Loss: 0.9451\n",
      "Epoch   0 Batch  340/538 - Train Accuracy: 0.5754, Validation Accuracy: 0.5987, Loss: 0.9215\n",
      "Epoch   0 Batch  360/538 - Train Accuracy: 0.5416, Validation Accuracy: 0.5723, Loss: 0.8899\n",
      "Epoch   0 Batch  380/538 - Train Accuracy: 0.5574, Validation Accuracy: 0.6035, Loss: 0.8467\n",
      "Epoch   0 Batch  400/538 - Train Accuracy: 0.5934, Validation Accuracy: 0.5977, Loss: 0.8166\n",
      "Epoch   0 Batch  420/538 - Train Accuracy: 0.5820, Validation Accuracy: 0.5886, Loss: 0.7696\n",
      "Epoch   0 Batch  440/538 - Train Accuracy: 0.6234, Validation Accuracy: 0.6225, Loss: 0.7822\n",
      "Epoch   0 Batch  460/538 - Train Accuracy: 0.6157, Validation Accuracy: 0.6316, Loss: 0.7367\n",
      "Epoch   0 Batch  480/538 - Train Accuracy: 0.6698, Validation Accuracy: 0.6589, Loss: 0.6613\n",
      "Epoch   0 Batch  500/538 - Train Accuracy: 0.6983, Validation Accuracy: 0.6708, Loss: 0.6015\n",
      "Epoch   0 Batch  520/538 - Train Accuracy: 0.6680, Validation Accuracy: 0.6749, Loss: 0.6738\n",
      "Epoch   1 Batch   20/538 - Train Accuracy: 0.7005, Validation Accuracy: 0.6955, Loss: 0.5696\n",
      "Epoch   1 Batch   40/538 - Train Accuracy: 0.7225, Validation Accuracy: 0.6974, Loss: 0.4975\n",
      "Epoch   1 Batch   60/538 - Train Accuracy: 0.7404, Validation Accuracy: 0.6971, Loss: 0.5146\n",
      "Epoch   1 Batch   80/538 - Train Accuracy: 0.7168, Validation Accuracy: 0.7173, Loss: 0.5132\n",
      "Epoch   1 Batch  100/538 - Train Accuracy: 0.7395, Validation Accuracy: 0.7308, Loss: 0.4521\n",
      "Epoch   1 Batch  120/538 - Train Accuracy: 0.7412, Validation Accuracy: 0.7266, Loss: 0.4340\n",
      "Epoch   1 Batch  140/538 - Train Accuracy: 0.7242, Validation Accuracy: 0.7207, Loss: 0.4683\n",
      "Epoch   1 Batch  160/538 - Train Accuracy: 0.7414, Validation Accuracy: 0.7335, Loss: 0.3741\n",
      "Epoch   1 Batch  180/538 - Train Accuracy: 0.7935, Validation Accuracy: 0.7488, Loss: 0.3840\n",
      "Epoch   1 Batch  200/538 - Train Accuracy: 0.7963, Validation Accuracy: 0.7473, Loss: 0.3624\n",
      "Epoch   1 Batch  220/538 - Train Accuracy: 0.7879, Validation Accuracy: 0.7658, Loss: 0.3350\n",
      "Epoch   1 Batch  240/538 - Train Accuracy: 0.7943, Validation Accuracy: 0.7638, Loss: 0.3537\n",
      "Epoch   1 Batch  260/538 - Train Accuracy: 0.7937, Validation Accuracy: 0.7559, Loss: 0.3162\n",
      "Epoch   1 Batch  280/538 - Train Accuracy: 0.8266, Validation Accuracy: 0.7985, Loss: 0.2640\n",
      "Epoch   1 Batch  300/538 - Train Accuracy: 0.8222, Validation Accuracy: 0.7873, Loss: 0.2677\n",
      "Epoch   1 Batch  320/538 - Train Accuracy: 0.8220, Validation Accuracy: 0.8075, Loss: 0.2633\n",
      "Epoch   1 Batch  340/538 - Train Accuracy: 0.8469, Validation Accuracy: 0.7978, Loss: 0.2489\n",
      "Epoch   1 Batch  360/538 - Train Accuracy: 0.8375, Validation Accuracy: 0.8121, Loss: 0.2507\n",
      "Epoch   1 Batch  380/538 - Train Accuracy: 0.8465, Validation Accuracy: 0.8123, Loss: 0.2185\n",
      "Epoch   1 Batch  400/538 - Train Accuracy: 0.8510, Validation Accuracy: 0.8089, Loss: 0.2180\n",
      "Epoch   1 Batch  420/538 - Train Accuracy: 0.8721, Validation Accuracy: 0.8263, Loss: 0.2077\n",
      "Epoch   1 Batch  440/538 - Train Accuracy: 0.8479, Validation Accuracy: 0.8189, Loss: 0.2245\n",
      "Epoch   1 Batch  460/538 - Train Accuracy: 0.8417, Validation Accuracy: 0.8263, Loss: 0.2017\n",
      "Epoch   1 Batch  480/538 - Train Accuracy: 0.8770, Validation Accuracy: 0.8352, Loss: 0.1688\n",
      "Epoch   1 Batch  500/538 - Train Accuracy: 0.8748, Validation Accuracy: 0.8404, Loss: 0.1477\n",
      "Epoch   1 Batch  520/538 - Train Accuracy: 0.8719, Validation Accuracy: 0.8588, Loss: 0.1741\n",
      "Epoch   2 Batch   20/538 - Train Accuracy: 0.8709, Validation Accuracy: 0.8681, Loss: 0.1538\n",
      "Epoch   2 Batch   40/538 - Train Accuracy: 0.8858, Validation Accuracy: 0.8723, Loss: 0.1260\n",
      "Epoch   2 Batch   60/538 - Train Accuracy: 0.8758, Validation Accuracy: 0.8597, Loss: 0.1695\n",
      "Epoch   2 Batch   80/538 - Train Accuracy: 0.8578, Validation Accuracy: 0.8436, Loss: 0.1834\n",
      "Epoch   2 Batch  100/538 - Train Accuracy: 0.8895, Validation Accuracy: 0.8656, Loss: 0.1457\n",
      "Epoch   2 Batch  120/538 - Train Accuracy: 0.8990, Validation Accuracy: 0.8658, Loss: 0.1162\n",
      "Epoch   2 Batch  140/538 - Train Accuracy: 0.8648, Validation Accuracy: 0.8794, Loss: 0.1598\n",
      "Epoch   2 Batch  160/538 - Train Accuracy: 0.8836, Validation Accuracy: 0.8773, Loss: 0.1000\n",
      "Epoch   2 Batch  180/538 - Train Accuracy: 0.9090, Validation Accuracy: 0.8745, Loss: 0.1132\n",
      "Epoch   2 Batch  200/538 - Train Accuracy: 0.9088, Validation Accuracy: 0.8846, Loss: 0.0996\n",
      "Epoch   2 Batch  220/538 - Train Accuracy: 0.8843, Validation Accuracy: 0.8947, Loss: 0.1070\n",
      "Epoch   2 Batch  240/538 - Train Accuracy: 0.8994, Validation Accuracy: 0.9013, Loss: 0.1153\n",
      "Epoch   2 Batch  260/538 - Train Accuracy: 0.8694, Validation Accuracy: 0.9036, Loss: 0.1143\n",
      "Epoch   2 Batch  280/538 - Train Accuracy: 0.9394, Validation Accuracy: 0.9015, Loss: 0.0857\n",
      "Epoch   2 Batch  300/538 - Train Accuracy: 0.8968, Validation Accuracy: 0.9153, Loss: 0.1013\n",
      "Epoch   2 Batch  320/538 - Train Accuracy: 0.9068, Validation Accuracy: 0.9217, Loss: 0.0918\n",
      "Epoch   2 Batch  340/538 - Train Accuracy: 0.8990, Validation Accuracy: 0.9167, Loss: 0.0985\n",
      "Epoch   2 Batch  360/538 - Train Accuracy: 0.9066, Validation Accuracy: 0.9187, Loss: 0.0977\n",
      "Epoch   2 Batch  380/538 - Train Accuracy: 0.9318, Validation Accuracy: 0.9215, Loss: 0.0850\n",
      "Epoch   2 Batch  400/538 - Train Accuracy: 0.9349, Validation Accuracy: 0.9066, Loss: 0.0850\n",
      "Epoch   2 Batch  420/538 - Train Accuracy: 0.9416, Validation Accuracy: 0.9256, Loss: 0.0824\n",
      "Epoch   2 Batch  440/538 - Train Accuracy: 0.9057, Validation Accuracy: 0.9224, Loss: 0.0968\n",
      "Epoch   2 Batch  460/538 - Train Accuracy: 0.9074, Validation Accuracy: 0.9181, Loss: 0.0866\n",
      "Epoch   2 Batch  480/538 - Train Accuracy: 0.9423, Validation Accuracy: 0.9075, Loss: 0.0758\n",
      "Epoch   2 Batch  500/538 - Train Accuracy: 0.9345, Validation Accuracy: 0.9144, Loss: 0.0632\n",
      "Epoch   2 Batch  520/538 - Train Accuracy: 0.9131, Validation Accuracy: 0.9219, Loss: 0.0805\n",
      "Epoch   3 Batch   20/538 - Train Accuracy: 0.9157, Validation Accuracy: 0.9292, Loss: 0.0733\n",
      "Epoch   3 Batch   40/538 - Train Accuracy: 0.9336, Validation Accuracy: 0.9252, Loss: 0.0603\n",
      "Epoch   3 Batch   60/538 - Train Accuracy: 0.9410, Validation Accuracy: 0.9263, Loss: 0.0705\n",
      "Epoch   3 Batch   80/538 - Train Accuracy: 0.9187, Validation Accuracy: 0.9375, Loss: 0.0750\n",
      "Epoch   3 Batch  100/538 - Train Accuracy: 0.9389, Validation Accuracy: 0.9395, Loss: 0.0588\n",
      "Epoch   3 Batch  120/538 - Train Accuracy: 0.9537, Validation Accuracy: 0.9343, Loss: 0.0523\n",
      "Epoch   3 Batch  140/538 - Train Accuracy: 0.9096, Validation Accuracy: 0.9336, Loss: 0.0920\n",
      "Epoch   3 Batch  160/538 - Train Accuracy: 0.9263, Validation Accuracy: 0.9293, Loss: 0.0556\n",
      "Epoch   3 Batch  180/538 - Train Accuracy: 0.9267, Validation Accuracy: 0.9284, Loss: 0.0661\n",
      "Epoch   3 Batch  200/538 - Train Accuracy: 0.9324, Validation Accuracy: 0.9270, Loss: 0.0605\n",
      "Epoch   3 Batch  220/538 - Train Accuracy: 0.9148, Validation Accuracy: 0.9368, Loss: 0.0637\n"
     ]
    },
    {
     "name": "stdout",
     "output_type": "stream",
     "text": [
      "Epoch   3 Batch  240/538 - Train Accuracy: 0.9402, Validation Accuracy: 0.9414, Loss: 0.0693\n",
      "Epoch   3 Batch  260/538 - Train Accuracy: 0.9252, Validation Accuracy: 0.9379, Loss: 0.0649\n",
      "Epoch   3 Batch  280/538 - Train Accuracy: 0.9490, Validation Accuracy: 0.9361, Loss: 0.0514\n",
      "Epoch   3 Batch  300/538 - Train Accuracy: 0.9206, Validation Accuracy: 0.9292, Loss: 0.0606\n",
      "Epoch   3 Batch  320/538 - Train Accuracy: 0.9252, Validation Accuracy: 0.9380, Loss: 0.0517\n",
      "Epoch   3 Batch  340/538 - Train Accuracy: 0.9186, Validation Accuracy: 0.9444, Loss: 0.0656\n",
      "Epoch   3 Batch  360/538 - Train Accuracy: 0.9393, Validation Accuracy: 0.9439, Loss: 0.0550\n",
      "Epoch   3 Batch  380/538 - Train Accuracy: 0.9453, Validation Accuracy: 0.9444, Loss: 0.0499\n",
      "Epoch   3 Batch  400/538 - Train Accuracy: 0.9602, Validation Accuracy: 0.9324, Loss: 0.0536\n",
      "Epoch   3 Batch  420/538 - Train Accuracy: 0.9596, Validation Accuracy: 0.9494, Loss: 0.0558\n",
      "Epoch   3 Batch  440/538 - Train Accuracy: 0.9311, Validation Accuracy: 0.9442, Loss: 0.0635\n",
      "Epoch   3 Batch  460/538 - Train Accuracy: 0.9332, Validation Accuracy: 0.9441, Loss: 0.0581\n",
      "Epoch   3 Batch  480/538 - Train Accuracy: 0.9520, Validation Accuracy: 0.9327, Loss: 0.0475\n",
      "Epoch   3 Batch  500/538 - Train Accuracy: 0.9574, Validation Accuracy: 0.9352, Loss: 0.0391\n",
      "Epoch   3 Batch  520/538 - Train Accuracy: 0.9467, Validation Accuracy: 0.9421, Loss: 0.0547\n",
      "Epoch   4 Batch   20/538 - Train Accuracy: 0.9459, Validation Accuracy: 0.9489, Loss: 0.0522\n",
      "Epoch   4 Batch   40/538 - Train Accuracy: 0.9563, Validation Accuracy: 0.9421, Loss: 0.0358\n",
      "Epoch   4 Batch   60/538 - Train Accuracy: 0.9504, Validation Accuracy: 0.9375, Loss: 0.0507\n",
      "Epoch   4 Batch   80/538 - Train Accuracy: 0.9596, Validation Accuracy: 0.9469, Loss: 0.0478\n",
      "Epoch   4 Batch  100/538 - Train Accuracy: 0.9607, Validation Accuracy: 0.9494, Loss: 0.0433\n",
      "Epoch   4 Batch  120/538 - Train Accuracy: 0.9430, Validation Accuracy: 0.9473, Loss: 0.0373\n",
      "Epoch   4 Batch  140/538 - Train Accuracy: 0.9357, Validation Accuracy: 0.9419, Loss: 0.0653\n",
      "Epoch   4 Batch  160/538 - Train Accuracy: 0.9488, Validation Accuracy: 0.9476, Loss: 0.0423\n",
      "Epoch   4 Batch  180/538 - Train Accuracy: 0.9425, Validation Accuracy: 0.9432, Loss: 0.0613\n",
      "Epoch   4 Batch  200/538 - Train Accuracy: 0.9586, Validation Accuracy: 0.9395, Loss: 0.0485\n",
      "Epoch   4 Batch  220/538 - Train Accuracy: 0.9280, Validation Accuracy: 0.9419, Loss: 0.0535\n",
      "Epoch   4 Batch  240/538 - Train Accuracy: 0.9373, Validation Accuracy: 0.9529, Loss: 0.0553\n",
      "Epoch   4 Batch  260/538 - Train Accuracy: 0.9291, Validation Accuracy: 0.9531, Loss: 0.0508\n",
      "Epoch   4 Batch  280/538 - Train Accuracy: 0.9701, Validation Accuracy: 0.9393, Loss: 0.0321\n",
      "Epoch   4 Batch  300/538 - Train Accuracy: 0.9355, Validation Accuracy: 0.9498, Loss: 0.0446\n",
      "Epoch   4 Batch  320/538 - Train Accuracy: 0.9524, Validation Accuracy: 0.9540, Loss: 0.0402\n",
      "Epoch   4 Batch  340/538 - Train Accuracy: 0.9322, Validation Accuracy: 0.9645, Loss: 0.0479\n",
      "Epoch   4 Batch  360/538 - Train Accuracy: 0.9588, Validation Accuracy: 0.9554, Loss: 0.0405\n",
      "Epoch   4 Batch  380/538 - Train Accuracy: 0.9563, Validation Accuracy: 0.9474, Loss: 0.0392\n",
      "Epoch   4 Batch  400/538 - Train Accuracy: 0.9622, Validation Accuracy: 0.9499, Loss: 0.0438\n",
      "Epoch   4 Batch  420/538 - Train Accuracy: 0.9633, Validation Accuracy: 0.9542, Loss: 0.0386\n",
      "Epoch   4 Batch  440/538 - Train Accuracy: 0.9465, Validation Accuracy: 0.9471, Loss: 0.0468\n",
      "Epoch   4 Batch  460/538 - Train Accuracy: 0.9526, Validation Accuracy: 0.9583, Loss: 0.0440\n",
      "Epoch   4 Batch  480/538 - Train Accuracy: 0.9490, Validation Accuracy: 0.9508, Loss: 0.0422\n",
      "Epoch   4 Batch  500/538 - Train Accuracy: 0.9664, Validation Accuracy: 0.9425, Loss: 0.0306\n",
      "Epoch   4 Batch  520/538 - Train Accuracy: 0.9516, Validation Accuracy: 0.9597, Loss: 0.0430\n",
      "Epoch   5 Batch   20/538 - Train Accuracy: 0.9596, Validation Accuracy: 0.9640, Loss: 0.0368\n",
      "Epoch   5 Batch   40/538 - Train Accuracy: 0.9638, Validation Accuracy: 0.9492, Loss: 0.0254\n",
      "Epoch   5 Batch   60/538 - Train Accuracy: 0.9570, Validation Accuracy: 0.9553, Loss: 0.0412\n",
      "Epoch   5 Batch   80/538 - Train Accuracy: 0.9555, Validation Accuracy: 0.9583, Loss: 0.0387\n",
      "Epoch   5 Batch  100/538 - Train Accuracy: 0.9719, Validation Accuracy: 0.9707, Loss: 0.0301\n",
      "Epoch   5 Batch  120/538 - Train Accuracy: 0.9551, Validation Accuracy: 0.9618, Loss: 0.0270\n",
      "Epoch   5 Batch  140/538 - Train Accuracy: 0.9338, Validation Accuracy: 0.9505, Loss: 0.0482\n",
      "Epoch   5 Batch  160/538 - Train Accuracy: 0.9604, Validation Accuracy: 0.9442, Loss: 0.0331\n",
      "Epoch   5 Batch  180/538 - Train Accuracy: 0.9528, Validation Accuracy: 0.9522, Loss: 0.0349\n",
      "Epoch   5 Batch  200/538 - Train Accuracy: 0.9658, Validation Accuracy: 0.9405, Loss: 0.0278\n",
      "Epoch   5 Batch  220/538 - Train Accuracy: 0.9470, Validation Accuracy: 0.9517, Loss: 0.0354\n",
      "Epoch   5 Batch  240/538 - Train Accuracy: 0.9641, Validation Accuracy: 0.9535, Loss: 0.0356\n",
      "Epoch   5 Batch  260/538 - Train Accuracy: 0.9418, Validation Accuracy: 0.9426, Loss: 0.0368\n",
      "Epoch   5 Batch  280/538 - Train Accuracy: 0.9736, Validation Accuracy: 0.9544, Loss: 0.0264\n",
      "Epoch   5 Batch  300/538 - Train Accuracy: 0.9645, Validation Accuracy: 0.9581, Loss: 0.0336\n",
      "Epoch   5 Batch  320/538 - Train Accuracy: 0.9567, Validation Accuracy: 0.9576, Loss: 0.0310\n",
      "Epoch   5 Batch  340/538 - Train Accuracy: 0.9340, Validation Accuracy: 0.9545, Loss: 0.0435\n",
      "Epoch   5 Batch  360/538 - Train Accuracy: 0.9482, Validation Accuracy: 0.9615, Loss: 0.0310\n",
      "Epoch   5 Batch  380/538 - Train Accuracy: 0.9666, Validation Accuracy: 0.9608, Loss: 0.0324\n",
      "Epoch   5 Batch  400/538 - Train Accuracy: 0.9667, Validation Accuracy: 0.9725, Loss: 0.0384\n",
      "Epoch   5 Batch  420/538 - Train Accuracy: 0.9695, Validation Accuracy: 0.9643, Loss: 0.0343\n",
      "Epoch   5 Batch  440/538 - Train Accuracy: 0.9566, Validation Accuracy: 0.9560, Loss: 0.0442\n",
      "Epoch   5 Batch  460/538 - Train Accuracy: 0.9600, Validation Accuracy: 0.9668, Loss: 0.0308\n",
      "Epoch   5 Batch  480/538 - Train Accuracy: 0.9647, Validation Accuracy: 0.9663, Loss: 0.0293\n",
      "Epoch   5 Batch  500/538 - Train Accuracy: 0.9751, Validation Accuracy: 0.9597, Loss: 0.0280\n",
      "Epoch   5 Batch  520/538 - Train Accuracy: 0.9580, Validation Accuracy: 0.9542, Loss: 0.0369\n",
      "Epoch   6 Batch   20/538 - Train Accuracy: 0.9598, Validation Accuracy: 0.9485, Loss: 0.0436\n",
      "Epoch   6 Batch   40/538 - Train Accuracy: 0.9588, Validation Accuracy: 0.9446, Loss: 0.0523\n",
      "Epoch   6 Batch   60/538 - Train Accuracy: 0.9408, Validation Accuracy: 0.9457, Loss: 0.0556\n",
      "Epoch   6 Batch   80/538 - Train Accuracy: 0.9590, Validation Accuracy: 0.9483, Loss: 0.0400\n",
      "Epoch   6 Batch  100/538 - Train Accuracy: 0.9705, Validation Accuracy: 0.9675, Loss: 0.0298\n",
      "Epoch   6 Batch  120/538 - Train Accuracy: 0.9686, Validation Accuracy: 0.9618, Loss: 0.0274\n",
      "Epoch   6 Batch  140/538 - Train Accuracy: 0.9477, Validation Accuracy: 0.9498, Loss: 0.0470\n",
      "Epoch   6 Batch  160/538 - Train Accuracy: 0.9600, Validation Accuracy: 0.9618, Loss: 0.0311\n",
      "Epoch   6 Batch  180/538 - Train Accuracy: 0.9596, Validation Accuracy: 0.9467, Loss: 0.0336\n",
      "Epoch   6 Batch  200/538 - Train Accuracy: 0.9613, Validation Accuracy: 0.9453, Loss: 0.0274\n",
      "Epoch   6 Batch  220/538 - Train Accuracy: 0.9576, Validation Accuracy: 0.9581, Loss: 0.0314\n",
      "Epoch   6 Batch  240/538 - Train Accuracy: 0.9693, Validation Accuracy: 0.9638, Loss: 0.0294\n",
      "Epoch   6 Batch  260/538 - Train Accuracy: 0.9554, Validation Accuracy: 0.9631, Loss: 0.0347\n",
      "Epoch   6 Batch  280/538 - Train Accuracy: 0.9803, Validation Accuracy: 0.9638, Loss: 0.0250\n",
      "Epoch   6 Batch  300/538 - Train Accuracy: 0.9647, Validation Accuracy: 0.9656, Loss: 0.0268\n",
      "Epoch   6 Batch  320/538 - Train Accuracy: 0.9626, Validation Accuracy: 0.9700, Loss: 0.0261\n",
      "Epoch   6 Batch  340/538 - Train Accuracy: 0.9744, Validation Accuracy: 0.9691, Loss: 0.0317\n",
      "Epoch   6 Batch  360/538 - Train Accuracy: 0.9707, Validation Accuracy: 0.9666, Loss: 0.0264\n",
      "Epoch   6 Batch  380/538 - Train Accuracy: 0.9770, Validation Accuracy: 0.9702, Loss: 0.0233\n",
      "Epoch   6 Batch  400/538 - Train Accuracy: 0.9634, Validation Accuracy: 0.9677, Loss: 0.0280\n",
      "Epoch   6 Batch  420/538 - Train Accuracy: 0.9664, Validation Accuracy: 0.9657, Loss: 0.0270\n",
      "Epoch   6 Batch  440/538 - Train Accuracy: 0.9635, Validation Accuracy: 0.9700, Loss: 0.0312\n"
     ]
    },
    {
     "name": "stdout",
     "output_type": "stream",
     "text": [
      "Epoch   6 Batch  460/538 - Train Accuracy: 0.9613, Validation Accuracy: 0.9700, Loss: 0.0255\n",
      "Epoch   6 Batch  480/538 - Train Accuracy: 0.9749, Validation Accuracy: 0.9677, Loss: 0.0234\n",
      "Epoch   6 Batch  500/538 - Train Accuracy: 0.9776, Validation Accuracy: 0.9590, Loss: 0.0231\n",
      "Epoch   6 Batch  520/538 - Train Accuracy: 0.9660, Validation Accuracy: 0.9645, Loss: 0.0299\n",
      "Epoch   7 Batch   20/538 - Train Accuracy: 0.9728, Validation Accuracy: 0.9627, Loss: 0.0295\n",
      "Epoch   7 Batch   40/538 - Train Accuracy: 0.9714, Validation Accuracy: 0.9666, Loss: 0.0216\n",
      "Epoch   7 Batch   60/538 - Train Accuracy: 0.9568, Validation Accuracy: 0.9766, Loss: 0.0288\n",
      "Epoch   7 Batch   80/538 - Train Accuracy: 0.9691, Validation Accuracy: 0.9654, Loss: 0.0243\n",
      "Epoch   7 Batch  100/538 - Train Accuracy: 0.9600, Validation Accuracy: 0.9693, Loss: 0.0211\n",
      "Epoch   7 Batch  120/538 - Train Accuracy: 0.9838, Validation Accuracy: 0.9631, Loss: 0.0197\n",
      "Epoch   7 Batch  140/538 - Train Accuracy: 0.9600, Validation Accuracy: 0.9544, Loss: 0.0351\n",
      "Epoch   7 Batch  160/538 - Train Accuracy: 0.9714, Validation Accuracy: 0.9666, Loss: 0.0242\n",
      "Epoch   7 Batch  180/538 - Train Accuracy: 0.9650, Validation Accuracy: 0.9643, Loss: 0.0275\n",
      "Epoch   7 Batch  200/538 - Train Accuracy: 0.9625, Validation Accuracy: 0.9561, Loss: 0.0212\n",
      "Epoch   7 Batch  220/538 - Train Accuracy: 0.9496, Validation Accuracy: 0.9556, Loss: 0.0305\n",
      "Epoch   7 Batch  240/538 - Train Accuracy: 0.9676, Validation Accuracy: 0.9672, Loss: 0.0251\n",
      "Epoch   7 Batch  260/538 - Train Accuracy: 0.9619, Validation Accuracy: 0.9595, Loss: 0.0306\n",
      "Epoch   7 Batch  280/538 - Train Accuracy: 0.9799, Validation Accuracy: 0.9673, Loss: 0.0211\n",
      "Epoch   7 Batch  300/538 - Train Accuracy: 0.9805, Validation Accuracy: 0.9631, Loss: 0.0228\n",
      "Epoch   7 Batch  320/538 - Train Accuracy: 0.9680, Validation Accuracy: 0.9686, Loss: 0.0255\n",
      "Epoch   7 Batch  340/538 - Train Accuracy: 0.9578, Validation Accuracy: 0.9679, Loss: 0.0276\n",
      "Epoch   7 Batch  360/538 - Train Accuracy: 0.9754, Validation Accuracy: 0.9634, Loss: 0.0256\n",
      "Epoch   7 Batch  380/538 - Train Accuracy: 0.9803, Validation Accuracy: 0.9641, Loss: 0.0186\n",
      "Epoch   7 Batch  400/538 - Train Accuracy: 0.9764, Validation Accuracy: 0.9657, Loss: 0.0264\n",
      "Epoch   7 Batch  420/538 - Train Accuracy: 0.9729, Validation Accuracy: 0.9775, Loss: 0.0234\n",
      "Epoch   7 Batch  440/538 - Train Accuracy: 0.9701, Validation Accuracy: 0.9675, Loss: 0.0282\n",
      "Epoch   7 Batch  460/538 - Train Accuracy: 0.9648, Validation Accuracy: 0.9744, Loss: 0.0252\n",
      "Epoch   7 Batch  480/538 - Train Accuracy: 0.9743, Validation Accuracy: 0.9570, Loss: 0.0197\n",
      "Epoch   7 Batch  500/538 - Train Accuracy: 0.9858, Validation Accuracy: 0.9627, Loss: 0.0181\n",
      "Epoch   7 Batch  520/538 - Train Accuracy: 0.9771, Validation Accuracy: 0.9702, Loss: 0.0252\n",
      "Epoch   8 Batch   20/538 - Train Accuracy: 0.9825, Validation Accuracy: 0.9707, Loss: 0.0224\n",
      "Epoch   8 Batch   40/538 - Train Accuracy: 0.9703, Validation Accuracy: 0.9638, Loss: 0.0184\n",
      "Epoch   8 Batch   60/538 - Train Accuracy: 0.9643, Validation Accuracy: 0.9661, Loss: 0.0277\n",
      "Epoch   8 Batch   80/538 - Train Accuracy: 0.9828, Validation Accuracy: 0.9730, Loss: 0.0290\n",
      "Epoch   8 Batch  100/538 - Train Accuracy: 0.9838, Validation Accuracy: 0.9689, Loss: 0.0220\n",
      "Epoch   8 Batch  120/538 - Train Accuracy: 0.9887, Validation Accuracy: 0.9666, Loss: 0.0183\n",
      "Epoch   8 Batch  140/538 - Train Accuracy: 0.9525, Validation Accuracy: 0.9705, Loss: 0.0311\n",
      "Epoch   8 Batch  160/538 - Train Accuracy: 0.9734, Validation Accuracy: 0.9709, Loss: 0.0212\n",
      "Epoch   8 Batch  180/538 - Train Accuracy: 0.9613, Validation Accuracy: 0.9725, Loss: 0.0304\n",
      "Epoch   8 Batch  200/538 - Train Accuracy: 0.9773, Validation Accuracy: 0.9533, Loss: 0.0144\n",
      "Epoch   8 Batch  220/538 - Train Accuracy: 0.9621, Validation Accuracy: 0.9647, Loss: 0.0266\n",
      "Epoch   8 Batch  240/538 - Train Accuracy: 0.9682, Validation Accuracy: 0.9691, Loss: 0.0252\n",
      "Epoch   8 Batch  260/538 - Train Accuracy: 0.9604, Validation Accuracy: 0.9656, Loss: 0.0271\n",
      "Epoch   8 Batch  280/538 - Train Accuracy: 0.9808, Validation Accuracy: 0.9682, Loss: 0.0181\n",
      "Epoch   8 Batch  300/538 - Train Accuracy: 0.8927, Validation Accuracy: 0.9103, Loss: 0.0524\n",
      "Epoch   8 Batch  320/538 - Train Accuracy: 0.9291, Validation Accuracy: 0.8988, Loss: 0.1216\n",
      "Epoch   8 Batch  340/538 - Train Accuracy: 0.9621, Validation Accuracy: 0.9570, Loss: 0.0624\n",
      "Epoch   8 Batch  360/538 - Train Accuracy: 0.9506, Validation Accuracy: 0.9668, Loss: 0.0361\n",
      "Epoch   8 Batch  380/538 - Train Accuracy: 0.9707, Validation Accuracy: 0.9691, Loss: 0.0302\n",
      "Epoch   8 Batch  400/538 - Train Accuracy: 0.9663, Validation Accuracy: 0.9680, Loss: 0.0295\n",
      "Epoch   8 Batch  420/538 - Train Accuracy: 0.9699, Validation Accuracy: 0.9718, Loss: 0.0214\n",
      "Epoch   8 Batch  440/538 - Train Accuracy: 0.9660, Validation Accuracy: 0.9672, Loss: 0.0292\n",
      "Epoch   8 Batch  460/538 - Train Accuracy: 0.9747, Validation Accuracy: 0.9766, Loss: 0.0236\n",
      "Epoch   8 Batch  480/538 - Train Accuracy: 0.9721, Validation Accuracy: 0.9750, Loss: 0.0221\n",
      "Epoch   8 Batch  500/538 - Train Accuracy: 0.9775, Validation Accuracy: 0.9767, Loss: 0.0182\n",
      "Epoch   8 Batch  520/538 - Train Accuracy: 0.9711, Validation Accuracy: 0.9691, Loss: 0.0249\n",
      "Epoch   9 Batch   20/538 - Train Accuracy: 0.9762, Validation Accuracy: 0.9771, Loss: 0.0238\n",
      "Epoch   9 Batch   40/538 - Train Accuracy: 0.9767, Validation Accuracy: 0.9751, Loss: 0.0178\n",
      "Epoch   9 Batch   60/538 - Train Accuracy: 0.9678, Validation Accuracy: 0.9783, Loss: 0.0223\n",
      "Epoch   9 Batch   80/538 - Train Accuracy: 0.9678, Validation Accuracy: 0.9734, Loss: 0.0184\n",
      "Epoch   9 Batch  100/538 - Train Accuracy: 0.9883, Validation Accuracy: 0.9760, Loss: 0.0181\n",
      "Epoch   9 Batch  120/538 - Train Accuracy: 0.9762, Validation Accuracy: 0.9741, Loss: 0.0168\n",
      "Epoch   9 Batch  140/538 - Train Accuracy: 0.9672, Validation Accuracy: 0.9693, Loss: 0.0319\n",
      "Epoch   9 Batch  160/538 - Train Accuracy: 0.9779, Validation Accuracy: 0.9775, Loss: 0.0175\n",
      "Epoch   9 Batch  180/538 - Train Accuracy: 0.9674, Validation Accuracy: 0.9668, Loss: 0.0188\n",
      "Epoch   9 Batch  200/538 - Train Accuracy: 0.9801, Validation Accuracy: 0.9773, Loss: 0.0138\n",
      "Epoch   9 Batch  220/538 - Train Accuracy: 0.9673, Validation Accuracy: 0.9737, Loss: 0.0212\n",
      "Epoch   9 Batch  240/538 - Train Accuracy: 0.9697, Validation Accuracy: 0.9686, Loss: 0.0215\n",
      "Epoch   9 Batch  260/538 - Train Accuracy: 0.9699, Validation Accuracy: 0.9739, Loss: 0.0223\n",
      "Epoch   9 Batch  280/538 - Train Accuracy: 0.9741, Validation Accuracy: 0.9712, Loss: 0.0142\n",
      "Epoch   9 Batch  300/538 - Train Accuracy: 0.9747, Validation Accuracy: 0.9718, Loss: 0.0172\n",
      "Epoch   9 Batch  320/538 - Train Accuracy: 0.9728, Validation Accuracy: 0.9783, Loss: 0.0240\n",
      "Epoch   9 Batch  340/538 - Train Accuracy: 0.9746, Validation Accuracy: 0.9759, Loss: 0.0215\n",
      "Epoch   9 Batch  360/538 - Train Accuracy: 0.9771, Validation Accuracy: 0.9709, Loss: 0.0172\n",
      "Epoch   9 Batch  380/538 - Train Accuracy: 0.9695, Validation Accuracy: 0.9750, Loss: 0.0167\n",
      "Epoch   9 Batch  400/538 - Train Accuracy: 0.9764, Validation Accuracy: 0.9775, Loss: 0.0172\n",
      "Epoch   9 Batch  420/538 - Train Accuracy: 0.9746, Validation Accuracy: 0.9746, Loss: 0.0191\n",
      "Epoch   9 Batch  440/538 - Train Accuracy: 0.9797, Validation Accuracy: 0.9789, Loss: 0.0187\n",
      "Epoch   9 Batch  460/538 - Train Accuracy: 0.9740, Validation Accuracy: 0.9746, Loss: 0.0203\n",
      "Epoch   9 Batch  480/538 - Train Accuracy: 0.9823, Validation Accuracy: 0.9714, Loss: 0.0137\n",
      "Epoch   9 Batch  500/538 - Train Accuracy: 0.9904, Validation Accuracy: 0.9835, Loss: 0.0137\n",
      "Epoch   9 Batch  520/538 - Train Accuracy: 0.9732, Validation Accuracy: 0.9748, Loss: 0.0188\n",
      "Model Trained and Saved\n"
     ]
    }
   ],
   "source": [
    "\"\"\"\n",
    "DON'T MODIFY ANYTHING IN THIS CELL\n",
    "\"\"\"\n",
    "def get_accuracy(target, logits):\n",
    "    \"\"\"\n",
    "    Calculate accuracy\n",
    "    \"\"\"\n",
    "    max_seq = max(target.shape[1], logits.shape[1])\n",
    "    if max_seq - target.shape[1]:\n",
    "        target = np.pad(\n",
    "            target,\n",
    "            [(0,0),(0,max_seq - target.shape[1])],\n",
    "            'constant')\n",
    "    if max_seq - logits.shape[1]:\n",
    "        logits = np.pad(\n",
    "            logits,\n",
    "            [(0,0),(0,max_seq - logits.shape[1])],\n",
    "            'constant')\n",
    "\n",
    "    return np.mean(np.equal(target, logits))\n",
    "\n",
    "# Split data to training and validation sets\n",
    "train_source = source_int_text[batch_size:]\n",
    "train_target = target_int_text[batch_size:]\n",
    "valid_source = source_int_text[:batch_size]\n",
    "valid_target = target_int_text[:batch_size]\n",
    "(valid_sources_batch, valid_targets_batch, valid_sources_lengths, valid_targets_lengths ) = next(get_batches(valid_source,\n",
    "                                                                                                             valid_target,\n",
    "                                                                                                             batch_size,\n",
    "                                                                                                             source_vocab_to_int['<PAD>'],\n",
    "                                                                                                             target_vocab_to_int['<PAD>']))                                                                                                  \n",
    "with tf.Session(graph=train_graph) as sess:\n",
    "    sess.run(tf.global_variables_initializer())\n",
    "\n",
    "    for epoch_i in range(epochs):\n",
    "        for batch_i, (source_batch, target_batch, sources_lengths, targets_lengths) in enumerate(\n",
    "                get_batches(train_source, train_target, batch_size,\n",
    "                            source_vocab_to_int['<PAD>'],\n",
    "                            target_vocab_to_int['<PAD>'])):\n",
    "\n",
    "            _, loss = sess.run(\n",
    "                [train_op, cost],\n",
    "                {input_data: source_batch,\n",
    "                 targets: target_batch,\n",
    "                 lr: learning_rate,\n",
    "                 target_sequence_length: targets_lengths,\n",
    "                 source_sequence_length: sources_lengths,\n",
    "                 keep_prob: keep_probability})\n",
    "\n",
    "\n",
    "            if batch_i % display_step == 0 and batch_i > 0:\n",
    "\n",
    "\n",
    "                batch_train_logits = sess.run(\n",
    "                    inference_logits,\n",
    "                    {input_data: source_batch,\n",
    "                     source_sequence_length: sources_lengths,\n",
    "                     target_sequence_length: targets_lengths,\n",
    "                     keep_prob: 1.0})\n",
    "\n",
    "\n",
    "                batch_valid_logits = sess.run(\n",
    "                    inference_logits,\n",
    "                    {input_data: valid_sources_batch,\n",
    "                     source_sequence_length: valid_sources_lengths,\n",
    "                     target_sequence_length: valid_targets_lengths,\n",
    "                     keep_prob: 1.0})\n",
    "\n",
    "                train_acc = get_accuracy(target_batch, batch_train_logits)\n",
    "\n",
    "                valid_acc = get_accuracy(valid_targets_batch, batch_valid_logits)\n",
    "\n",
    "                print('Epoch {:>3} Batch {:>4}/{} - Train Accuracy: {:>6.4f}, Validation Accuracy: {:>6.4f}, Loss: {:>6.4f}'\n",
    "                      .format(epoch_i, batch_i, len(source_int_text) // batch_size, train_acc, valid_acc, loss))\n",
    "\n",
    "    # Save Model\n",
    "    saver = tf.train.Saver()\n",
    "    saver.save(sess, save_path)\n",
    "    print('Model Trained and Saved')"
   ]
  },
  {
   "cell_type": "markdown",
   "metadata": {},
   "source": [
    "### Save Parameters\n",
    "Save the `batch_size` and `save_path` parameters for inference."
   ]
  },
  {
   "cell_type": "code",
   "execution_count": 30,
   "metadata": {
    "collapsed": true
   },
   "outputs": [],
   "source": [
    "\"\"\"\n",
    "DON'T MODIFY ANYTHING IN THIS CELL\n",
    "\"\"\"\n",
    "# Save parameters for checkpoint\n",
    "helper.save_params(save_path)"
   ]
  },
  {
   "cell_type": "markdown",
   "metadata": {},
   "source": [
    "# Checkpoint"
   ]
  },
  {
   "cell_type": "code",
   "execution_count": 31,
   "metadata": {
    "collapsed": true
   },
   "outputs": [],
   "source": [
    "\"\"\"\n",
    "DON'T MODIFY ANYTHING IN THIS CELL\n",
    "\"\"\"\n",
    "import tensorflow as tf\n",
    "import numpy as np\n",
    "import helper\n",
    "import problem_unittests as tests\n",
    "\n",
    "_, (source_vocab_to_int, target_vocab_to_int), (source_int_to_vocab, target_int_to_vocab) = helper.load_preprocess()\n",
    "load_path = helper.load_params()"
   ]
  },
  {
   "cell_type": "markdown",
   "metadata": {},
   "source": [
    "## Sentence to Sequence\n",
    "To feed a sentence into the model for translation, you first need to preprocess it.  Implement the function `sentence_to_seq()` to preprocess new sentences.\n",
    "\n",
    "- Convert the sentence to lowercase\n",
    "- Convert words into ids using `vocab_to_int`\n",
    " - Convert words not in the vocabulary, to the `<UNK>` word id."
   ]
  },
  {
   "cell_type": "code",
   "execution_count": 34,
   "metadata": {},
   "outputs": [
    {
     "name": "stdout",
     "output_type": "stream",
     "text": [
      "Tests Passed\n"
     ]
    }
   ],
   "source": [
    "def sentence_to_seq(sentence, vocab_to_int):\n",
    "    \"\"\"\n",
    "    Convert a sentence to a sequence of ids\n",
    "    :param sentence: String\n",
    "    :param vocab_to_int: Dictionary to go from the words to an id\n",
    "    :return: List of word ids\n",
    "    \"\"\"\n",
    "    seq = []\n",
    "    for word in sentence.split():\n",
    "        seq.append(vocab_to_int.get(word.lower(), vocab_to_int['<UNK>']))\n",
    "        \n",
    "    return seq\n",
    "\n",
    "\n",
    "\"\"\"\n",
    "DON'T MODIFY ANYTHING IN THIS CELL THAT IS BELOW THIS LINE\n",
    "\"\"\"\n",
    "tests.test_sentence_to_seq(sentence_to_seq)"
   ]
  },
  {
   "cell_type": "markdown",
   "metadata": {},
   "source": [
    "## Translate\n",
    "This will translate `translate_sentence` from English to French."
   ]
  },
  {
   "cell_type": "code",
   "execution_count": 35,
   "metadata": {},
   "outputs": [
    {
     "name": "stdout",
     "output_type": "stream",
     "text": [
      "INFO:tensorflow:Restoring parameters from checkpoints/dev\n",
      "Input\n",
      "  Word Ids:      [11, 15, 125, 180, 27, 17, 171]\n",
      "  English Words: ['he', 'saw', 'a', 'old', 'yellow', 'truck', '.']\n",
      "\n",
      "Prediction\n",
      "  Word Ids:      [133, 230, 184, 147, 220, 285, 202, 248, 1]\n",
      "  French Words: il a vu un vieux camion jaune . <EOS>\n"
     ]
    }
   ],
   "source": [
    "translate_sentence = 'he saw a old yellow truck .'\n",
    "\n",
    "\n",
    "\"\"\"\n",
    "DON'T MODIFY ANYTHING IN THIS CELL\n",
    "\"\"\"\n",
    "translate_sentence = sentence_to_seq(translate_sentence, source_vocab_to_int)\n",
    "\n",
    "loaded_graph = tf.Graph()\n",
    "with tf.Session(graph=loaded_graph) as sess:\n",
    "    # Load saved model\n",
    "    loader = tf.train.import_meta_graph(load_path + '.meta')\n",
    "    loader.restore(sess, load_path)\n",
    "\n",
    "    input_data = loaded_graph.get_tensor_by_name('input:0')\n",
    "    logits = loaded_graph.get_tensor_by_name('predictions:0')\n",
    "    target_sequence_length = loaded_graph.get_tensor_by_name('target_sequence_length:0')\n",
    "    source_sequence_length = loaded_graph.get_tensor_by_name('source_sequence_length:0')\n",
    "    keep_prob = loaded_graph.get_tensor_by_name('keep_prob:0')\n",
    "\n",
    "    translate_logits = sess.run(logits, {input_data: [translate_sentence]*batch_size,\n",
    "                                         target_sequence_length: [len(translate_sentence)*2]*batch_size,\n",
    "                                         source_sequence_length: [len(translate_sentence)]*batch_size,\n",
    "                                         keep_prob: 1.0})[0]\n",
    "\n",
    "print('Input')\n",
    "print('  Word Ids:      {}'.format([i for i in translate_sentence]))\n",
    "print('  English Words: {}'.format([source_int_to_vocab[i] for i in translate_sentence]))\n",
    "\n",
    "print('\\nPrediction')\n",
    "print('  Word Ids:      {}'.format([i for i in translate_logits]))\n",
    "print('  French Words: {}'.format(\" \".join([target_int_to_vocab[i] for i in translate_logits])))\n"
   ]
  },
  {
   "cell_type": "markdown",
   "metadata": {},
   "source": [
    "## Imperfect Translation\n",
    "You might notice that some sentences translate better than others.  Since the dataset you're using only has a vocabulary of 227 English words of the thousands that you use, you're only going to see good results using these words.  For this project, you don't need a perfect translation. However, if you want to create a better translation model, you'll need better data.\n",
    "\n",
    "You can train on the [WMT10 French-English corpus](http://www.statmt.org/wmt10/training-giga-fren.tar).  This dataset has more vocabulary and richer in topics discussed.  However, this will take you days to train, so make sure you've a GPU and the neural network is performing well on dataset we provided.  Just make sure you play with the WMT10 corpus after you've submitted this project.\n",
    "## Submitting This Project\n",
    "When submitting this project, make sure to run all the cells before saving the notebook. Save the notebook file as \"dlnd_language_translation.ipynb\" and save it as a HTML file under \"File\" -> \"Download as\". Include the \"helper.py\" and \"problem_unittests.py\" files in your submission."
   ]
  }
 ],
 "metadata": {
  "anaconda-cloud": {},
  "kernelspec": {
   "display_name": "Python 3",
   "language": "python",
   "name": "python3"
  },
  "language_info": {
   "codemirror_mode": {
    "name": "ipython",
    "version": 3
   },
   "file_extension": ".py",
   "mimetype": "text/x-python",
   "name": "python",
   "nbconvert_exporter": "python",
   "pygments_lexer": "ipython3",
   "version": "3.5.3"
  }
 },
 "nbformat": 4,
 "nbformat_minor": 1
}
